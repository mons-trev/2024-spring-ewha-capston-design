{
  "nbformat": 4,
  "nbformat_minor": 0,
  "metadata": {
    "colab": {
      "provenance": [],
      "include_colab_link": true
    },
    "kernelspec": {
      "name": "python3",
      "display_name": "Python 3"
    },
    "language_info": {
      "name": "python"
    }
  },
  "cells": [
    {
      "cell_type": "markdown",
      "metadata": {
        "id": "view-in-github",
        "colab_type": "text"
      },
      "source": [
        "<a href=\"https://colab.research.google.com/github/ekyuho/2024-spring-ewha-capston-design/blob/main/make_order.ipynb\" target=\"_parent\"><img src=\"https://colab.research.google.com/assets/colab-badge.svg\" alt=\"Open In Colab\"/></a>"
      ]
    },
    {
      "cell_type": "code",
      "execution_count": 16,
      "metadata": {
        "id": "2pKHj1nuJajQ",
        "outputId": "dfac4d07-066a-4066-eae5-658ce90d5ffa",
        "colab": {
          "base_uri": "https://localhost:8080/"
        }
      },
      "outputs": [
        {
          "output_type": "stream",
          "name": "stdout",
          "text": [
            "[1, 2, 3, 4, 5, 6, 7, 8, 9, 10, 11, 12, 13, 15, 16, 17, 18, 19, 20, 21, 23]\n",
            "[8, 12, 9, 13, 15, 11, 10, 2, 21, 5, 4, 3, 16, 1, 20, 7, 23, 6, 18, 17, 19]\n",
            "total 21팀\n",
            "6월7일(금) 1교시 8 12 9 13 15\n",
            "6월7일(금) 12교시 11 10 2 21 5 4\n",
            "6월11일(화) 1교시 3 16 1 20 7\n",
            "6월18일(화) 1교시 23 6 18 17 19\n"
          ]
        }
      ],
      "source": [
        "import random\n",
        "\n",
        "day=['6월7일(금) 1교시','6월7일(금) 12교시', '6월11일(화) 1교시', '6월18일(화) 1교시']\n",
        "teams=[]\n",
        "missing=[14, 22]\n",
        "for i in range(1,24):\n",
        "  if i not in missing: teams.append(i)\n",
        "print(teams)\n",
        "random.shuffle(teams)\n",
        "print(teams)\n",
        "print(f'total {len(teams)}팀')\n",
        "\n",
        "# 75분 한교시에 6팀씩 발표하는 것으로 가정\n",
        "perday=[5,6,5,5]\n",
        "count=0\n",
        "for i in range(len(day)):\n",
        "  print(day[i], end='')\n",
        "  for j in range(perday[i]):\n",
        "    if count == len(teams): break\n",
        "    print(f' {teams[count]}', end='')\n",
        "    count+=1\n",
        "  print()"
      ]
    },
    {
      "cell_type": "code",
      "source": [],
      "metadata": {
        "id": "c24vtIoGJ6DA"
      },
      "execution_count": null,
      "outputs": []
    }
  ]
}